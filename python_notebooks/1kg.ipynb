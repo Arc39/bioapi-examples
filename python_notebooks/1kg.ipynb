{
 "cells": [
  {
   "cell_type": "markdown",
   "metadata": {},
   "source": [
    "## GA4GH 1000 Genome Examples"
   ]
  },
  {
   "cell_type": "markdown",
   "metadata": {},
   "source": [
    "Variant data from the Thousand Genomes project is being served by the GA4GH reference server. In this example we show how to use the GA4GH client to access the data."
   ]
  },
  {
   "cell_type": "markdown",
   "metadata": {},
   "source": [
    "### Initialize the client"
   ]
  },
  {
   "cell_type": "markdown",
   "metadata": {},
   "source": [
    "In this step we create a client object which will be used to communicate with the server. It is initialized using the URL."
   ]
  },
  {
   "cell_type": "code",
   "execution_count": 4,
   "metadata": {
    "collapsed": true
   },
   "outputs": [],
   "source": [
    "import ga4gh.client as client\n",
    "c = client.HttpClient(\"http://1kgenomes.ga4gh.org/\")"
   ]
  },
  {
   "cell_type": "markdown",
   "metadata": {},
   "source": [
    "We will continue to refer to this client object for accessing the remote server."
   ]
  },
  {
   "cell_type": "markdown",
   "metadata": {},
   "source": [
    "### Access the dataset"
   ]
  },
  {
   "cell_type": "markdown",
   "metadata": {},
   "source": [
    "Here, we issue or first API call to get a listing of datasets hosted by the server. The API call returns an iterator, which is iterated on once to get the `1kgenomes` dataset."
   ]
  },
  {
   "cell_type": "code",
   "execution_count": 5,
   "metadata": {
    "collapsed": true
   },
   "outputs": [],
   "source": [
    "dataset = c.searchDatasets().next()"
   ]
  },
  {
   "cell_type": "code",
   "execution_count": 6,
   "metadata": {
    "collapsed": false
   },
   "outputs": [
    {
     "name": "stdout",
     "output_type": "stream",
     "text": [
      "Dataset({\"description\": \"Variants from the 1000 Genomes project and GENCODE genes annotations\", \"name\": \"1kgenomes\", \"id\": \"WyIxa2dlbm9tZXMiXQ\"})\n"
     ]
    }
   ],
   "source": [
    "print(dataset)"
   ]
  },
  {
   "cell_type": "markdown",
   "metadata": {},
   "source": [
    "### Access the reference set"
   ]
  },
  {
   "cell_type": "markdown",
   "metadata": {},
   "source": [
    "The GA4GH Genomics API provides methods for accessing the bases of a reference. The Thousand Genomes data presented here are mapped to GRCh37.\n",
    "\n",
    "To access these data we first list the reference sets."
   ]
  },
  {
   "cell_type": "code",
   "execution_count": 7,
   "metadata": {
    "collapsed": false
   },
   "outputs": [
    {
     "name": "stdout",
     "output_type": "stream",
     "text": [
      "ReferenceSet({\"name\": \"hg37\", \"sourceURI\": \"https://github.com/ga4gh/compliance/blob/master/test-data/\", \"assemblyId\": \"hg37\", \"sourceAccessions\": [\"GA4GH_CTS_01\"], \"ncbiTaxonId\": 9606, \"isDerived\": true, \"id\": \"WyJoZzM3Il0\", \"md5checksum\": \"12827085103f42e97428dc05a7f26fec\", \"description\": \"An artificial reference for use with compliance data, derived from GRCh37\"})\n"
     ]
    }
   ],
   "source": [
    "referenceSet = c.searchReferenceSets().next()\n",
    "print(referenceSet)"
   ]
  },
  {
   "cell_type": "markdown",
   "metadata": {},
   "source": [
    "With the reference set saved to a variable we will now request for the available references. This is the list of contigs for which we can request reference bases."
   ]
  },
  {
   "cell_type": "code",
   "execution_count": 14,
   "metadata": {
    "collapsed": false
   },
   "outputs": [
    {
     "name": "stdout",
     "output_type": "stream",
     "text": [
      "ref_brca1\n"
     ]
    }
   ],
   "source": [
    "references = [r for r in c.searchReferences(referenceSetId = referenceSet.id)]\n",
    "print(', '.join(sorted([reference.name for reference in references])))"
   ]
  },
  {
   "cell_type": "markdown",
   "metadata": {},
   "source": [
    "Here, we print the names of the available references. These reference names are used in the `variants/search` API. By selecting one of the references we can craft a `ListBases` request. Here, we ask for the 1000 bases between 10,000 and 11,000 on the first chromosome."
   ]
  },
  {
   "cell_type": "markdown",
   "metadata": {},
   "source": [
    "### List reference bases"
   ]
  },
  {
   "cell_type": "code",
   "execution_count": 13,
   "metadata": {
    "collapsed": false
   },
   "outputs": [
    {
     "ename": "RequestNonSuccessException",
     "evalue": "Url http://localhost:8080/ga4gh/references/WyJoZzM3IiwicmVmX2JyY2ExIl0/bases?start=0&end=120000 had status_code 416",
     "output_type": "error",
     "traceback": [
      "\u001b[0;31m---------------------------------------------------------------------------\u001b[0m",
      "\u001b[0;31mRequestNonSuccessException\u001b[0m                Traceback (most recent call last)",
      "\u001b[0;32m<ipython-input-13-b89f26f71eda>\u001b[0m in \u001b[0;36m<module>\u001b[0;34m()\u001b[0m\n\u001b[1;32m      1\u001b[0m \u001b[0;31m#chr1 = filter(lambda x: x.name == \"1\", references)[0]\u001b[0m\u001b[0;34m\u001b[0m\u001b[0;34m\u001b[0m\u001b[0m\n\u001b[1;32m      2\u001b[0m \u001b[0;31m#bases = c.listReferenceBases(chr1.id, start=10000, end=11000)\u001b[0m\u001b[0;34m\u001b[0m\u001b[0;34m\u001b[0m\u001b[0m\n\u001b[0;32m----> 3\u001b[0;31m \u001b[0mbases\u001b[0m \u001b[0;34m=\u001b[0m \u001b[0mc\u001b[0m\u001b[0;34m.\u001b[0m\u001b[0mlistReferenceBases\u001b[0m\u001b[0;34m(\u001b[0m\u001b[0;34m\"WyJoZzM3IiwicmVmX2JyY2ExIl0\"\u001b[0m\u001b[0;34m,\u001b[0m \u001b[0mstart\u001b[0m\u001b[0;34m=\u001b[0m\u001b[0;36m0\u001b[0m\u001b[0;34m,\u001b[0m \u001b[0mend\u001b[0m\u001b[0;34m=\u001b[0m\u001b[0;36m120000\u001b[0m\u001b[0;34m)\u001b[0m\u001b[0;34m\u001b[0m\u001b[0m\n\u001b[0m\u001b[1;32m      4\u001b[0m \u001b[0;32mprint\u001b[0m\u001b[0;34m(\u001b[0m\u001b[0mbases\u001b[0m\u001b[0;34m)\u001b[0m\u001b[0;34m\u001b[0m\u001b[0m\n\u001b[1;32m      5\u001b[0m \u001b[0;32mprint\u001b[0m\u001b[0;34m(\u001b[0m\u001b[0mlen\u001b[0m\u001b[0;34m(\u001b[0m\u001b[0mbases\u001b[0m\u001b[0;34m)\u001b[0m\u001b[0;34m)\u001b[0m\u001b[0;34m\u001b[0m\u001b[0m\n",
      "\u001b[0;32m/Users/david/bioapi-examples/ga4gh/client.pyc\u001b[0m in \u001b[0;36mlistReferenceBases\u001b[0;34m(self, id_, start, end)\u001b[0m\n\u001b[1;32m     85\u001b[0m         \u001b[0mbasesList\u001b[0m \u001b[0;34m=\u001b[0m \u001b[0;34m[\u001b[0m\u001b[0;34m]\u001b[0m\u001b[0;34m\u001b[0m\u001b[0m\n\u001b[1;32m     86\u001b[0m         \u001b[0;32mwhile\u001b[0m \u001b[0mnotDone\u001b[0m\u001b[0;34m:\u001b[0m\u001b[0;34m\u001b[0m\u001b[0m\n\u001b[0;32m---> 87\u001b[0;31m             \u001b[0mresponse\u001b[0m \u001b[0;34m=\u001b[0m \u001b[0mself\u001b[0m\u001b[0;34m.\u001b[0m\u001b[0m_runListReferenceBasesPageRequest\u001b[0m\u001b[0;34m(\u001b[0m\u001b[0mid_\u001b[0m\u001b[0;34m,\u001b[0m \u001b[0mrequest\u001b[0m\u001b[0;34m)\u001b[0m\u001b[0;34m\u001b[0m\u001b[0m\n\u001b[0m\u001b[1;32m     88\u001b[0m             \u001b[0mbasesList\u001b[0m\u001b[0;34m.\u001b[0m\u001b[0mappend\u001b[0m\u001b[0;34m(\u001b[0m\u001b[0mresponse\u001b[0m\u001b[0;34m.\u001b[0m\u001b[0msequence\u001b[0m\u001b[0;34m)\u001b[0m\u001b[0;34m\u001b[0m\u001b[0m\n\u001b[1;32m     89\u001b[0m             \u001b[0mnotDone\u001b[0m \u001b[0;34m=\u001b[0m \u001b[0mresponse\u001b[0m\u001b[0;34m.\u001b[0m\u001b[0mnextPageToken\u001b[0m \u001b[0;32mis\u001b[0m \u001b[0;32mnot\u001b[0m \u001b[0mNone\u001b[0m\u001b[0;34m\u001b[0m\u001b[0m\n",
      "\u001b[0;32m/Users/david/bioapi-examples/ga4gh/client.pyc\u001b[0m in \u001b[0;36m_runListReferenceBasesPageRequest\u001b[0;34m(self, id_, request)\u001b[0m\n\u001b[1;32m    468\u001b[0m         \u001b[0mparams\u001b[0m\u001b[0;34m.\u001b[0m\u001b[0mupdate\u001b[0m\u001b[0;34m(\u001b[0m\u001b[0mrequest\u001b[0m\u001b[0;34m.\u001b[0m\u001b[0mtoJsonDict\u001b[0m\u001b[0;34m(\u001b[0m\u001b[0;34m)\u001b[0m\u001b[0;34m)\u001b[0m\u001b[0;34m\u001b[0m\u001b[0m\n\u001b[1;32m    469\u001b[0m         \u001b[0mresponse\u001b[0m \u001b[0;34m=\u001b[0m \u001b[0mself\u001b[0m\u001b[0;34m.\u001b[0m\u001b[0m_session\u001b[0m\u001b[0;34m.\u001b[0m\u001b[0mget\u001b[0m\u001b[0;34m(\u001b[0m\u001b[0murl\u001b[0m\u001b[0;34m,\u001b[0m \u001b[0mparams\u001b[0m\u001b[0;34m=\u001b[0m\u001b[0mparams\u001b[0m\u001b[0;34m)\u001b[0m\u001b[0;34m\u001b[0m\u001b[0m\n\u001b[0;32m--> 470\u001b[0;31m         \u001b[0mself\u001b[0m\u001b[0;34m.\u001b[0m\u001b[0m_checkResponseStatus\u001b[0m\u001b[0;34m(\u001b[0m\u001b[0mresponse\u001b[0m\u001b[0;34m)\u001b[0m\u001b[0;34m\u001b[0m\u001b[0m\n\u001b[0m\u001b[1;32m    471\u001b[0m         return self._deserializeResponse(\n\u001b[1;32m    472\u001b[0m             response.text, protocol.ListReferenceBasesResponse)\n",
      "\u001b[0;32m/Users/david/bioapi-examples/ga4gh/client.pyc\u001b[0m in \u001b[0;36m_checkResponseStatus\u001b[0;34m(self, response)\u001b[0m\n\u001b[1;32m    437\u001b[0m             raise exceptions.RequestNonSuccessException(\n\u001b[1;32m    438\u001b[0m                 \"Url {0} had status_code {1}\".format(\n\u001b[0;32m--> 439\u001b[0;31m                     response.url, response.status_code))\n\u001b[0m\u001b[1;32m    440\u001b[0m \u001b[0;34m\u001b[0m\u001b[0m\n\u001b[1;32m    441\u001b[0m     \u001b[0;32mdef\u001b[0m \u001b[0m_getHttpParameters\u001b[0m\u001b[0;34m(\u001b[0m\u001b[0mself\u001b[0m\u001b[0;34m)\u001b[0m\u001b[0;34m:\u001b[0m\u001b[0;34m\u001b[0m\u001b[0m\n",
      "\u001b[0;31mRequestNonSuccessException\u001b[0m: Url http://localhost:8080/ga4gh/references/WyJoZzM3IiwicmVmX2JyY2ExIl0/bases?start=0&end=120000 had status_code 416"
     ]
    }
   ],
   "source": [
    "chr1 = filter(lambda x: x.name == \"1\", references)[0]\n",
    "bases = c.listReferenceBases(chr1.id, start=10000, end=11000)\n",
    "print(bases)\n",
    "print(len(bases))"
   ]
  },
  {
   "cell_type": "markdown",
   "metadata": {},
   "source": [
    "### List Variant Sets "
   ]
  },
  {
   "cell_type": "markdown",
   "metadata": {},
   "source": [
    "The Thousand Genomes project sequenced the genome of over 2500 participants and released variation data in VCF format. The GA4GH reference server hosts those variant sets, and in this step we will list the available containers."
   ]
  },
  {
   "cell_type": "code",
   "execution_count": 17,
   "metadata": {
    "collapsed": false
   },
   "outputs": [],
   "source": [
    "release = None\n",
    "functional = None\n",
    "for variantSet in c.searchVariantSets(datasetId=dataset.id):\n",
    "    if variantSet.name == \"release\":\n",
    "        release = variantSet\n",
    "    else:\n",
    "        functional = variantSet"
   ]
  },
  {
   "cell_type": "markdown",
   "metadata": {},
   "source": [
    "There are two variant sets currently being made available by this server instance. `release` contains the calls for the each participant and `functional_annotation` provides details of the effects of these variants created using the Variant Effect Predictor."
   ]
  },
  {
   "cell_type": "markdown",
   "metadata": {},
   "source": [
    "### Search variants"
   ]
  },
  {
   "cell_type": "markdown",
   "metadata": {},
   "source": [
    "Now that we have stored identifiers for the variant sets hosted by this server, we can craft search requests to find the individual variants. The GA4GH genomics API closely follows VCF by providing the calls for each variant in the variant record itself. Let's get a single variant record to examine."
   ]
  },
  {
   "cell_type": "code",
   "execution_count": 90,
   "metadata": {
    "collapsed": false
   },
   "outputs": [
    {
     "name": "stdout",
     "output_type": "stream",
     "text": [
      "Variant name: rs367896724\n",
      "Start: 10176, End: 10177\n",
      "Reference bases: A\n",
      "Alternate bases: [u'AC']\n",
      "Number of calls: 2504\n"
     ]
    }
   ],
   "source": [
    "exampleVariant = c.searchVariants(variantSetId=release.id, start=10000, end=11000, referenceName=chr1.name).next()\n",
    "print(\"Variant name: {}\".format(exampleVariant.names[0]))\n",
    "print(\"Start: {}, End: {}\".format(exampleVariant.start, exampleVariant.end))\n",
    "print(\"Reference bases: {}\".format(exampleVariant.referenceBases))\n",
    "print(\"Alternate bases: {}\".format(exampleVariant.alternateBases))\n",
    "print(\"Number of calls: {}\".format(len(exampleVariant.calls)))"
   ]
  },
  {
   "cell_type": "markdown",
   "metadata": {},
   "source": [
    "### Variant calls"
   ]
  },
  {
   "cell_type": "markdown",
   "metadata": {},
   "source": [
    "Here, we select a few of the important fields of the variant record. Let's now examine the calls returned with this variant. The calls are what tell us which participants were believed to have presented the given variant."
   ]
  },
  {
   "cell_type": "code",
   "execution_count": 91,
   "metadata": {
    "collapsed": false
   },
   "outputs": [
    {
     "name": "stdout",
     "output_type": "stream",
     "text": [
      "Call({\"info\": {}, \"genotype\": [1, 0], \"callSetId\": \"WyIxa2dlbm9tZXMiLCJ2cyIsInJlbGVhc2UiLCJIRzAwMDk2Il0\", \"phaseset\": \"*\", \"genotypeLikelihood\": [], \"callSetName\": \"HG00096\"})\n"
     ]
    }
   ],
   "source": [
    "print(exampleVariant.calls[0])"
   ]
  },
  {
   "cell_type": "markdown",
   "metadata": {},
   "source": [
    "This tells us that for the participant `HG00096` the variant in question was observed on the first haplotype (`\"genotype\": [1, 0]`). We can perform summary statistics on the calls field to measure allele frequency. For this demonstration we will count the presence of the variant on either haplotype to determine how often it was seen amongst the participants."
   ]
  },
  {
   "cell_type": "code",
   "execution_count": 92,
   "metadata": {
    "collapsed": false
   },
   "outputs": [
    {
     "name": "stdout",
     "output_type": "stream",
     "text": [
      "1810/2504 participants with this variant\n",
      "0.722843450479\n"
     ]
    }
   ],
   "source": [
    "total = 0\n",
    "count = 0\n",
    "for call in exampleVariant.calls:\n",
    "    total += 1\n",
    "    count += call.genotype[0] or call.genotype[1]\n",
    "print(\"{}/{} participants with this variant\".format(count, total))\n",
    "print(float(count) / float(total))"
   ]
  },
  {
   "cell_type": "markdown",
   "metadata": {},
   "source": [
    "### Variant annotations"
   ]
  },
  {
   "cell_type": "markdown",
   "metadata": {},
   "source": [
    "To get at the detailed variant annotations, we must first find the variant annotation set."
   ]
  },
  {
   "cell_type": "code",
   "execution_count": 93,
   "metadata": {
    "collapsed": false
   },
   "outputs": [],
   "source": [
    "annotationSet = c.searchVariantAnnotationSets(variantSetId=functional.id).next()"
   ]
  },
  {
   "cell_type": "markdown",
   "metadata": {},
   "source": [
    "We can now search for the range that includes our example variant to discover relevant annotations."
   ]
  },
  {
   "cell_type": "code",
   "execution_count": 94,
   "metadata": {
    "collapsed": false
   },
   "outputs": [
    {
     "name": "stdout",
     "output_type": "stream",
     "text": [
      "upstream_gene_variant\n"
     ]
    }
   ],
   "source": [
    "annotation = c.searchVariantAnnotations(\n",
    "    variantAnnotationSetId=annotationSet.id,\n",
    "    start=exampleVariant.start,\n",
    "    end=exampleVariant.end,\n",
    "    referenceName=chr1.name).next()\n",
    "print(annotation.transcriptEffects[0].effects[0].term)"
   ]
  },
  {
   "cell_type": "markdown",
   "metadata": {},
   "source": [
    "Here we have found the annotation for our example variant and have found it has the `upstream_gene_variant` consequence."
   ]
  },
  {
   "cell_type": "markdown",
   "metadata": {},
   "source": [
    "### Sequence annotations"
   ]
  },
  {
   "cell_type": "markdown",
   "metadata": {},
   "source": [
    "Finally, we can learn more about the site of our example variant by querying the sequence annotations API, which is serving the Gencode Genes data."
   ]
  },
  {
   "cell_type": "code",
   "execution_count": 95,
   "metadata": {
    "collapsed": false
   },
   "outputs": [
    {
     "name": "stdout",
     "output_type": "stream",
     "text": [
      "FeatureSet({\"info\": {}, \"name\": \"gencode_v24lift37\", \"sourceURI\": null, \"referenceSetId\": null, \"id\": \"WyIxa2dlbm9tZXMiLCJnZW5jb2RlX3YyNGxpZnQzNyJd\", \"datasetId\": \"WyIxa2dlbm9tZXMiXQ\"})\n"
     ]
    }
   ],
   "source": [
    "gencode = c.searchFeatureSets(datasetId=dataset.id).next()\n",
    "print(gencode)"
   ]
  },
  {
   "cell_type": "markdown",
   "metadata": {},
   "source": [
    "We can now craft search requests for features to find the nearest gene:"
   ]
  },
  {
   "cell_type": "code",
   "execution_count": 102,
   "metadata": {
    "collapsed": false
   },
   "outputs": [
    {
     "name": "stdout",
     "output_type": "stream",
     "text": [
      "Gene name: DDX11L1\n",
      "Start: 11869, End: 14409\n"
     ]
    }
   ],
   "source": [
    "gene = c.searchFeatures(\n",
    "    featureSetId=gencode.id,\n",
    "    start=10000,\n",
    "    end=12000,\n",
    "    referenceName=\"chr1\",\n",
    "    featureTypes=['gene']).next()\n",
    "print(\"Gene name: {}\".format(gene.attributes.vals['gene_name'][0]))\n",
    "print(\"Start: {}, End: {}\".format(gene.start, gene.end))"
   ]
  }
 ],
 "metadata": {
  "kernelspec": {
   "display_name": "Python 2",
   "language": "python",
   "name": "python2"
  },
  "language_info": {
   "codemirror_mode": {
    "name": "ipython",
    "version": 2
   },
   "file_extension": ".py",
   "mimetype": "text/x-python",
   "name": "python",
   "nbconvert_exporter": "python",
   "pygments_lexer": "ipython2",
   "version": "2.7.11"
  }
 },
 "nbformat": 4,
 "nbformat_minor": 0
}
